{
    "cells": [
        {
            "cell_type": "markdown",
            "metadata": {
                "collapsed": true
            },
            "source": "# *Private Schools in Dubai, U.A.E* "
        },
        {
            "cell_type": "markdown",
            "metadata": {},
            "source": "## 1) Introduction : Background and Problem ##"
        },
        {
            "cell_type": "markdown",
            "metadata": {},
            "source": "### Dubai is a multi-racial society where people from different countries reside with peace and harmony. Each communtiy has it's own education institutions imparting quality education to children from different walks of life. ###"
        },
        {
            "cell_type": "markdown",
            "metadata": {},
            "source": "### *The Knowledge and Human Development Authority (KHDA)* is the educational quality assurance and regulatory authority of the Government of Dubai, U.A.E . It over sees private education sector in Dubai. It is responsible for the growth and quality of private education in Dubai. Dubai Schoools Inspection Bureau (DSIB) a part of KHDA, is a group of inspectors who assess the schools. The evaluation is done on the effectiveness of the school, the learning environment, the achievements of students and the self-evualuation process of schools. Inspections also focus on Islamic Education, English, Maths, Science and Arabic. The schools are rated as follows :-\n### - Outstanding\n### - Very Good\n### - Good\n### - Acceptable\n### - Weak"
        },
        {
            "cell_type": "markdown",
            "metadata": {},
            "source": "### In this project, I will make an analysis of private schools available in different areas in Dubai, to assist parents in selecting an appropriate school for their child based on the KHDA rating.\n### Target audience will be _New Residents and People who are residing in Dubai_ looking for quality education for their children."
        },
        {
            "cell_type": "markdown",
            "metadata": {},
            "source": "## 2) Data Description :\n\n### - KHDA releases data on education institutions every year. The open data is taken from their website https://www.khda.gov.ae/CMS/WebParts/TextEditor/Documents/DubaiPrivateSchoolsOpenData.xlsx\n### - Based on the ratings, I will do analysis for the years 2018 - 2019, 2019 - 2020 and will show private schools in different areas in Dubai.\n### - I will build the code to scrape the Wikipedia page https://en.wikipedia.org/wiki/List_of_communities_in_Dubai which consists of list of communities (areas) in Dubai. By using the BeautifulSoup package, it will transform the data in a table in the pandas dataframe.\n### - All data related to locations are obtained by using Foursquare API and Python libraries."
        },
        {
            "cell_type": "code",
            "execution_count": null,
            "metadata": {},
            "outputs": [],
            "source": ""
        }
    ],
    "metadata": {
        "kernelspec": {
            "display_name": "Python 3.7",
            "language": "python",
            "name": "python3"
        },
        "language_info": {
            "codemirror_mode": {
                "name": "ipython",
                "version": 3
            },
            "file_extension": ".py",
            "mimetype": "text/x-python",
            "name": "python",
            "nbconvert_exporter": "python",
            "pygments_lexer": "ipython3",
            "version": "3.7.9"
        }
    },
    "nbformat": 4,
    "nbformat_minor": 1
}